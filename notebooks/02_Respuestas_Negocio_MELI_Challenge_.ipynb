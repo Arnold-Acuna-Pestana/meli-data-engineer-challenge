{
  "cells": [
    {
      "cell_type": "markdown",
      "id": "3c3c11f5",
      "metadata": {
        "id": "3c3c11f5"
      },
      "source": [
        "#  PySpark SQL - Mercado Libre Challenge\n",
        "Este notebook carga los archivos CSV generados en el primer paso y ejecuta consultas sobre Spark SQL para resolver las consignas del challenge."
      ]
    },
    {
      "cell_type": "markdown",
      "id": "efcc3da3",
      "metadata": {
        "id": "efcc3da3"
      },
      "source": [
        "##  Instalar PySpark en Google Colab"
      ]
    },
    {
      "cell_type": "code",
      "execution_count": 1,
      "id": "a88790ed",
      "metadata": {
        "colab": {
          "base_uri": "https://localhost:8080/"
        },
        "id": "a88790ed",
        "outputId": "a0ad90c3-aa3d-4c44-ccdc-18bc77d6ddbf"
      },
      "outputs": [
        {
          "output_type": "stream",
          "name": "stdout",
          "text": [
            "Requirement already satisfied: pyspark in /usr/local/lib/python3.11/dist-packages (3.5.1)\n",
            "Requirement already satisfied: py4j==0.10.9.7 in /usr/local/lib/python3.11/dist-packages (from pyspark) (0.10.9.7)\n"
          ]
        }
      ],
      "source": [
        "!pip install pyspark"
      ]
    },
    {
      "cell_type": "markdown",
      "id": "d9c9f1a1",
      "metadata": {
        "id": "d9c9f1a1"
      },
      "source": [
        "## Crear SparkSession"
      ]
    },
    {
      "cell_type": "code",
      "execution_count": 4,
      "id": "6f49e379",
      "metadata": {
        "id": "6f49e379"
      },
      "outputs": [],
      "source": [
        "import os\n",
        "from pyspark.sql import SparkSession\n",
        "\n",
        "spark = SparkSession.builder.appName(\"MeliChallenge\").getOrCreate()"
      ]
    },
    {
      "cell_type": "markdown",
      "id": "37105e58",
      "metadata": {
        "id": "37105e58"
      },
      "source": [
        "##  Cargar archivos CSV"
      ]
    },
    {
      "cell_type": "code",
      "execution_count": 2,
      "id": "4e1316f7",
      "metadata": {
        "colab": {
          "base_uri": "https://localhost:8080/",
          "height": 177
        },
        "id": "4e1316f7",
        "outputId": "e794ee5b-a657-4f73-f95a-27257d3a4560"
      },
      "outputs": [
        {
          "output_type": "display_data",
          "data": {
            "text/plain": [
              "<IPython.core.display.HTML object>"
            ],
            "text/html": [
              "\n",
              "     <input type=\"file\" id=\"files-77e3b0a9-7595-4495-9981-71d761ea5820\" name=\"files[]\" multiple disabled\n",
              "        style=\"border:none\" />\n",
              "     <output id=\"result-77e3b0a9-7595-4495-9981-71d761ea5820\">\n",
              "      Upload widget is only available when the cell has been executed in the\n",
              "      current browser session. Please rerun this cell to enable.\n",
              "      </output>\n",
              "      <script>// Copyright 2017 Google LLC\n",
              "//\n",
              "// Licensed under the Apache License, Version 2.0 (the \"License\");\n",
              "// you may not use this file except in compliance with the License.\n",
              "// You may obtain a copy of the License at\n",
              "//\n",
              "//      http://www.apache.org/licenses/LICENSE-2.0\n",
              "//\n",
              "// Unless required by applicable law or agreed to in writing, software\n",
              "// distributed under the License is distributed on an \"AS IS\" BASIS,\n",
              "// WITHOUT WARRANTIES OR CONDITIONS OF ANY KIND, either express or implied.\n",
              "// See the License for the specific language governing permissions and\n",
              "// limitations under the License.\n",
              "\n",
              "/**\n",
              " * @fileoverview Helpers for google.colab Python module.\n",
              " */\n",
              "(function(scope) {\n",
              "function span(text, styleAttributes = {}) {\n",
              "  const element = document.createElement('span');\n",
              "  element.textContent = text;\n",
              "  for (const key of Object.keys(styleAttributes)) {\n",
              "    element.style[key] = styleAttributes[key];\n",
              "  }\n",
              "  return element;\n",
              "}\n",
              "\n",
              "// Max number of bytes which will be uploaded at a time.\n",
              "const MAX_PAYLOAD_SIZE = 100 * 1024;\n",
              "\n",
              "function _uploadFiles(inputId, outputId) {\n",
              "  const steps = uploadFilesStep(inputId, outputId);\n",
              "  const outputElement = document.getElementById(outputId);\n",
              "  // Cache steps on the outputElement to make it available for the next call\n",
              "  // to uploadFilesContinue from Python.\n",
              "  outputElement.steps = steps;\n",
              "\n",
              "  return _uploadFilesContinue(outputId);\n",
              "}\n",
              "\n",
              "// This is roughly an async generator (not supported in the browser yet),\n",
              "// where there are multiple asynchronous steps and the Python side is going\n",
              "// to poll for completion of each step.\n",
              "// This uses a Promise to block the python side on completion of each step,\n",
              "// then passes the result of the previous step as the input to the next step.\n",
              "function _uploadFilesContinue(outputId) {\n",
              "  const outputElement = document.getElementById(outputId);\n",
              "  const steps = outputElement.steps;\n",
              "\n",
              "  const next = steps.next(outputElement.lastPromiseValue);\n",
              "  return Promise.resolve(next.value.promise).then((value) => {\n",
              "    // Cache the last promise value to make it available to the next\n",
              "    // step of the generator.\n",
              "    outputElement.lastPromiseValue = value;\n",
              "    return next.value.response;\n",
              "  });\n",
              "}\n",
              "\n",
              "/**\n",
              " * Generator function which is called between each async step of the upload\n",
              " * process.\n",
              " * @param {string} inputId Element ID of the input file picker element.\n",
              " * @param {string} outputId Element ID of the output display.\n",
              " * @return {!Iterable<!Object>} Iterable of next steps.\n",
              " */\n",
              "function* uploadFilesStep(inputId, outputId) {\n",
              "  const inputElement = document.getElementById(inputId);\n",
              "  inputElement.disabled = false;\n",
              "\n",
              "  const outputElement = document.getElementById(outputId);\n",
              "  outputElement.innerHTML = '';\n",
              "\n",
              "  const pickedPromise = new Promise((resolve) => {\n",
              "    inputElement.addEventListener('change', (e) => {\n",
              "      resolve(e.target.files);\n",
              "    });\n",
              "  });\n",
              "\n",
              "  const cancel = document.createElement('button');\n",
              "  inputElement.parentElement.appendChild(cancel);\n",
              "  cancel.textContent = 'Cancel upload';\n",
              "  const cancelPromise = new Promise((resolve) => {\n",
              "    cancel.onclick = () => {\n",
              "      resolve(null);\n",
              "    };\n",
              "  });\n",
              "\n",
              "  // Wait for the user to pick the files.\n",
              "  const files = yield {\n",
              "    promise: Promise.race([pickedPromise, cancelPromise]),\n",
              "    response: {\n",
              "      action: 'starting',\n",
              "    }\n",
              "  };\n",
              "\n",
              "  cancel.remove();\n",
              "\n",
              "  // Disable the input element since further picks are not allowed.\n",
              "  inputElement.disabled = true;\n",
              "\n",
              "  if (!files) {\n",
              "    return {\n",
              "      response: {\n",
              "        action: 'complete',\n",
              "      }\n",
              "    };\n",
              "  }\n",
              "\n",
              "  for (const file of files) {\n",
              "    const li = document.createElement('li');\n",
              "    li.append(span(file.name, {fontWeight: 'bold'}));\n",
              "    li.append(span(\n",
              "        `(${file.type || 'n/a'}) - ${file.size} bytes, ` +\n",
              "        `last modified: ${\n",
              "            file.lastModifiedDate ? file.lastModifiedDate.toLocaleDateString() :\n",
              "                                    'n/a'} - `));\n",
              "    const percent = span('0% done');\n",
              "    li.appendChild(percent);\n",
              "\n",
              "    outputElement.appendChild(li);\n",
              "\n",
              "    const fileDataPromise = new Promise((resolve) => {\n",
              "      const reader = new FileReader();\n",
              "      reader.onload = (e) => {\n",
              "        resolve(e.target.result);\n",
              "      };\n",
              "      reader.readAsArrayBuffer(file);\n",
              "    });\n",
              "    // Wait for the data to be ready.\n",
              "    let fileData = yield {\n",
              "      promise: fileDataPromise,\n",
              "      response: {\n",
              "        action: 'continue',\n",
              "      }\n",
              "    };\n",
              "\n",
              "    // Use a chunked sending to avoid message size limits. See b/62115660.\n",
              "    let position = 0;\n",
              "    do {\n",
              "      const length = Math.min(fileData.byteLength - position, MAX_PAYLOAD_SIZE);\n",
              "      const chunk = new Uint8Array(fileData, position, length);\n",
              "      position += length;\n",
              "\n",
              "      const base64 = btoa(String.fromCharCode.apply(null, chunk));\n",
              "      yield {\n",
              "        response: {\n",
              "          action: 'append',\n",
              "          file: file.name,\n",
              "          data: base64,\n",
              "        },\n",
              "      };\n",
              "\n",
              "      let percentDone = fileData.byteLength === 0 ?\n",
              "          100 :\n",
              "          Math.round((position / fileData.byteLength) * 100);\n",
              "      percent.textContent = `${percentDone}% done`;\n",
              "\n",
              "    } while (position < fileData.byteLength);\n",
              "  }\n",
              "\n",
              "  // All done.\n",
              "  yield {\n",
              "    response: {\n",
              "      action: 'complete',\n",
              "    }\n",
              "  };\n",
              "}\n",
              "\n",
              "scope.google = scope.google || {};\n",
              "scope.google.colab = scope.google.colab || {};\n",
              "scope.google.colab._files = {\n",
              "  _uploadFiles,\n",
              "  _uploadFilesContinue,\n",
              "};\n",
              "})(self);\n",
              "</script> "
            ]
          },
          "metadata": {}
        },
        {
          "output_type": "stream",
          "name": "stdout",
          "text": [
            "Saving categories.csv to categories.csv\n",
            "Saving customers.csv to customers.csv\n",
            "Saving items.csv to items.csv\n",
            "Saving orders.csv to orders.csv\n"
          ]
        }
      ],
      "source": [
        "from google.colab import files\n",
        "\n",
        "# customers.csv, items.csv, orders.csv y categories.csv\n",
        "uploaded = files.upload()"
      ]
    },
    {
      "cell_type": "markdown",
      "id": "d68fbde2",
      "metadata": {
        "id": "d68fbde2"
      },
      "source": [
        "##  Leer los archivos CSV como DataFrames de Spark"
      ]
    },
    {
      "cell_type": "code",
      "execution_count": 6,
      "id": "202f426c",
      "metadata": {
        "id": "202f426c"
      },
      "outputs": [],
      "source": [
        "df_customers = spark.read.option(\"header\", \"true\").option(\"inferSchema\", \"true\").csv(\"customers.csv\")\n",
        "df_items = spark.read.option(\"header\", \"true\").option(\"inferSchema\", \"true\").csv(\"items.csv\")\n",
        "df_orders = spark.read.option(\"header\", \"true\").option(\"inferSchema\", \"true\").csv(\"orders.csv\")\n",
        "df_categories = spark.read.option(\"header\", \"true\").option(\"inferSchema\", \"true\").csv(\"categories.csv\")"
      ]
    },
    {
      "cell_type": "markdown",
      "id": "9fba8568",
      "metadata": {
        "id": "9fba8568"
      },
      "source": [
        "##  Crear tablas temporales SQL"
      ]
    },
    {
      "cell_type": "code",
      "execution_count": 7,
      "id": "f8a4f62f",
      "metadata": {
        "id": "f8a4f62f"
      },
      "outputs": [],
      "source": [
        "df_customers.createOrReplaceTempView(\"Customer\")\n",
        "df_items.createOrReplaceTempView(\"Item\")\n",
        "df_orders.createOrReplaceTempView(\"Order\")\n",
        "df_categories.createOrReplaceTempView(\"Category\")"
      ]
    },
    {
      "cell_type": "markdown",
      "id": "6c2c11cf",
      "metadata": {
        "id": "6c2c11cf"
      },
      "source": [
        "## Usuarios que cumplen años hoy y vendieron más de $1500 en enero 2020"
      ]
    },
    {
      "cell_type": "code",
      "execution_count": 14,
      "id": "ba0f7978",
      "metadata": {
        "colab": {
          "base_uri": "https://localhost:8080/"
        },
        "id": "ba0f7978",
        "outputId": "c010725e-1b43-45ac-def6-6c44247c2371"
      },
      "outputs": [
        {
          "output_type": "stream",
          "name": "stdout",
          "text": [
            "+-----------+------+--------+----------+------------+\n",
            "|customer_id|nombre|apellido|nacimiento|total_ventas|\n",
            "+-----------+------+--------+----------+------------+\n",
            "|       2120| Sofía|   Gomez|1962-05-26|        3513|\n",
            "+-----------+------+--------+----------+------------+\n",
            "\n"
          ]
        }
      ],
      "source": [
        "spark.sql(\"\"\"\n",
        "SELECT\n",
        "  c.customer_id, c.nombre, c.apellido, c.nacimiento, SUM(o.precio * o.cantidad) AS total_ventas\n",
        "FROM Customer c\n",
        "JOIN Order o ON c.customer_id = o.seller_id\n",
        "WHERE MONTH(o.order_date) = 1 AND YEAR(o.order_date) = 2020\n",
        "  AND DATE_FORMAT(c.nacimiento, 'MM-dd') = DATE_FORMAT(CURRENT_DATE(), 'MM-dd')\n",
        "GROUP BY 1, 2, 3, 4\n",
        "HAVING total_ventas > 1500\n",
        "\"\"\").show()"
      ]
    },
    {
      "cell_type": "markdown",
      "source": [
        "Genero consulta de control rápido para verificar la query anterior"
      ],
      "metadata": {
        "id": "q9BEsGtofj1-"
      },
      "id": "q9BEsGtofj1-"
    },
    {
      "cell_type": "code",
      "source": [
        "spark.sql(\"\"\"\n",
        "SELECT\n",
        "  order_id,\titem_id,\tseller_id\t,\tcantidad,\tprecio,\torder_date,\n",
        "  SUM(precio * cantidad) AS total_ventas\n",
        "FROM Order\n",
        "WHERE MONTH(order_date) = 1 AND YEAR(order_date) = 2020\n",
        "  AND seller_id = 2120\n",
        "  GROUP BY 1,2,3,4,5,6\n",
        "\"\"\").show()"
      ],
      "metadata": {
        "colab": {
          "base_uri": "https://localhost:8080/"
        },
        "id": "rhIXm5OiefCv",
        "outputId": "def58189-3078-4bb6-f1bf-df4d3479742a"
      },
      "id": "rhIXm5OiefCv",
      "execution_count": 25,
      "outputs": [
        {
          "output_type": "stream",
          "name": "stdout",
          "text": [
            "+--------+-------+---------+--------+------+----------+------------+\n",
            "|order_id|item_id|seller_id|cantidad|precio|order_date|total_ventas|\n",
            "+--------+-------+---------+--------+------+----------+------------+\n",
            "|     879|   1005|     2120|       3|   243|2020-01-06|         729|\n",
            "|    6669|   1153|     2120|       3|   928|2020-01-01|        2784|\n",
            "+--------+-------+---------+--------+------+----------+------------+\n",
            "\n"
          ]
        }
      ]
    },
    {
      "cell_type": "markdown",
      "id": "5633ff13",
      "metadata": {
        "id": "5633ff13"
      },
      "source": [
        "## Por cada mes del 2020, se solicita el top 5 de usuarios que más vendieron($) en la categoría Celulares. Se requiere el mes y año de análisis, nombre y apellido del vendedor, cantidad de ventas realizadas, cantidad de productos vendidos y el monto total transaccionado."
      ]
    },
    {
      "cell_type": "code",
      "execution_count": 27,
      "id": "37908787",
      "metadata": {
        "colab": {
          "base_uri": "https://localhost:8080/"
        },
        "id": "37908787",
        "outputId": "14223c76-b810-4e6f-9f15-483d0601f15d"
      },
      "outputs": [
        {
          "output_type": "stream",
          "name": "stdout",
          "text": [
            "+---+-----------+----------------+--------+---------------+------------------+-----+-------+\n",
            "|mes|customer_id|          nombre|apellido|cantidad_ventas|productos_vendidos|total|ranking|\n",
            "+---+-----------+----------------+--------+---------------+------------------+-----+-------+\n",
            "|  1|       3422|         Octavio| Vazquez|              5|                15|12269|      1|\n",
            "|  1|       7489|          Fausto| Carrizo|              7|                16| 9757|      2|\n",
            "|  1|       8904|       Felicitas|    Sosa|              5|                17| 9087|      3|\n",
            "|  1|       7694|Lautaro Benjamin|    Sosa|              4|                13| 8812|      4|\n",
            "|  1|       6864|     Guillermina|  Acosta|              3|                 9| 8784|      5|\n",
            "|  2|       3066|         Paulina| Aguirre|              3|                11|10803|      1|\n",
            "|  2|       7694|Lautaro Benjamin|    Sosa|              3|                11|10108|      2|\n",
            "|  2|        367|    Juan Ignacio|  Aguero|              4|                11| 8923|      3|\n",
            "|  2|       5274|       Valentino| Ramirez|              5|                16| 8500|      4|\n",
            "|  2|       7489|          Fausto| Carrizo|              5|                13| 8320|      5|\n",
            "|  3|       1976|    Juan Ignacio|Ferreyra|              4|                14|13692|      1|\n",
            "|  3|       8356|   Thiago Leonel|  Guzman|              5|                14|12430|      2|\n",
            "|  3|       7719|            Luca|   Gomez|              5|                15|11320|      3|\n",
            "|  3|       9403|            Emma|  Garcia|              5|                19|10228|      4|\n",
            "|  3|       1892|          Felipe|  Flores|              8|                14| 8601|      5|\n",
            "|  4|       8356|   Thiago Leonel|  Guzman|              3|                11| 9505|      1|\n",
            "|  4|       1646|  Lautaro Nahuel|Villalba|              7|                16| 9201|      2|\n",
            "|  4|       4628|        Catalina| Navarro|              4|                11| 9130|      3|\n",
            "|  4|       2063|            Alma|   Lopez|              2|                 8| 7648|      4|\n",
            "|  4|       5010|    Juan Ignacio| Benitez|              4|                10| 7622|      5|\n",
            "+---+-----------+----------------+--------+---------------+------------------+-----+-------+\n",
            "only showing top 20 rows\n",
            "\n"
          ]
        }
      ],
      "source": [
        "# Consulta 2 - Top 5 vendedores mensuales en Celulares\n",
        "spark.sql(\"\"\"\n",
        "WITH ventas AS (\n",
        "  SELECT\n",
        "    MONTH(o.order_date) AS mes,\n",
        "    c.customer_id,\n",
        "    c.nombre,\n",
        "    c.apellido,\n",
        "    COUNT(o.order_id) AS cantidad_ventas,\n",
        "    SUM(o.cantidad) AS productos_vendidos,\n",
        "    SUM(o.precio * o.cantidad) AS total\n",
        "  FROM order o\n",
        "  JOIN item i ON o.item_id = i.item_id\n",
        "  JOIN category cat ON i.category_id = cat.category_id\n",
        "  JOIN customer c ON c.customer_id = o.seller_id\n",
        "  WHERE\n",
        "    YEAR(o.order_date) = 2020 AND\n",
        "    LOWER(cat.nombre_categoria) LIKE '%celulares%'\n",
        "  GROUP BY\n",
        "    MONTH(o.order_date), c.customer_id, c.nombre, c.apellido\n",
        "),\n",
        "ranked AS (\n",
        "  SELECT *,\n",
        "         ROW_NUMBER() OVER (PARTITION BY mes ORDER BY total DESC) AS ranking\n",
        "  FROM ventas\n",
        ")\n",
        "SELECT *\n",
        "FROM ranked\n",
        "WHERE ranking <= 5\n",
        "\"\"\").show()\n"
      ]
    }
  ],
  "metadata": {
    "colab": {
      "provenance": []
    },
    "language_info": {
      "name": "python"
    },
    "kernelspec": {
      "name": "python3",
      "display_name": "Python 3"
    }
  },
  "nbformat": 4,
  "nbformat_minor": 5
}